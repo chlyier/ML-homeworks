{
 "cells": [
  {
   "cell_type": "code",
   "execution_count": 12,
   "id": "3c79a283",
   "metadata": {},
   "outputs": [],
   "source": [
    "import keras\n",
    "import numpy as np\n",
    "import matplotlib.pyplot as plt\n",
    "from PIL import Image\n",
    "\n",
    "\n",
    "from keras.datasets import mnist\n",
    "from keras.models import Model\n",
    "from keras.layers import Input, add\n",
    "from keras.layers.core import Dense, Dropout, Activation, Flatten, Reshape\n",
    "from keras import regularizers\n",
    "from keras.regularizers import l2\n",
    "from keras.layers.convolutional import Conv2D, MaxPooling2D, UpSampling2D, ZeroPadding2D\n",
    "from keras.utils import np_utils"
   ]
  },
  {
   "cell_type": "markdown",
   "id": "31a89ce2",
   "metadata": {},
   "source": [
    "# 加载数据"
   ]
  },
  {
   "cell_type": "code",
   "execution_count": 8,
   "id": "81a2f969-64ec-4f51-84c2-45eecc38c053",
   "metadata": {},
   "outputs": [],
   "source": [
    "(X_train, _), (X_test, _) = mnist.load_data()"
   ]
  },
  {
   "cell_type": "code",
   "execution_count": 9,
   "id": "714a15d1",
   "metadata": {},
   "outputs": [
    {
     "data": {
      "text/plain": [
       "((60000, 28, 28), (10000, 28, 28))"
      ]
     },
     "execution_count": 9,
     "metadata": {},
     "output_type": "execute_result"
    }
   ],
   "source": [
    "X_train.shape, X_test.shape"
   ]
  },
  {
   "cell_type": "code",
   "execution_count": 10,
   "id": "77fcac65",
   "metadata": {},
   "outputs": [],
   "source": [
    "# 展示前 m*n 个数字\n",
    "def show_mnist(train_image):\n",
    "    n = 4\n",
    "    m = 4\n",
    "    fig = plt.figure()\n",
    "    for i in range(n):\n",
    "        for j in range(m):\n",
    "            plt.subplot(n, m, i*n+j+1)\n",
    "            plt.subplots_adjust(wspace=0.2, hspace=2)\n",
    "            index = i * n + j  # 当前图片的标号\n",
    "            img_array = train_image[index]\n",
    "            img = Image.fromarray(img_array)\n",
    "            plt.imshow(img)\n",
    "    plt.show()"
   ]
  },
  {
   "cell_type": "code",
   "execution_count": 13,
   "id": "0ba0f421",
   "metadata": {},
   "outputs": [
    {
     "data": {
      "image/png": "[encoded data removed]",
      "text/plain": [
       "<Figure size 432x288 with 16 Axes>"
      ]
     },
     "metadata": {
      "needs_background": "light"
     },
     "output_type": "display_data"
    }
   ],
   "source": [
    "show_mnist(X_train)"
   ]
  },
  {
   "cell_type": "markdown",
   "id": "6280da64",
   "metadata": {},
   "source": [
    "# 数据预处理"
   ]
  },
  {
   "cell_type": "code",
   "execution_count": 14,
   "id": "c9a02de4",
   "metadata": {},
   "outputs": [],
   "source": [
    "# 将数据维度进行处理: 将每个像素变成一个列表，即从 60000*28*28 变为 60000*28*28*1\n",
    "X_train = X_train.reshape(X_train.shape[0], 28, 28, 1)\n",
    "X_test = X_test.reshape(X_test.shape[0], 28, 28, 1)"
   ]
  },
  {
   "cell_type": "code",
   "execution_count": 15,
   "id": "403278c7",
   "metadata": {},
   "outputs": [],
   "source": [
    "# 进行归一化处理，变成0-1内的小数\n",
    "X_train = X_train.astype(\"float32\") / 255.\n",
    "X_test = X_test.astype(\"float32\") / 255."
   ]
  },
  {
   "cell_type": "code",
   "execution_count": 16,
   "id": "65ef2070",
   "metadata": {},
   "outputs": [
    {
     "name": "stdout",
     "output_type": "stream",
     "text": [
      "X_train shape: (60000, 28, 28, 1)\n",
      "60000 train samples\n",
      "10000 test samples\n"
     ]
    }
   ],
   "source": [
    "print('X_train shape:', X_train.shape)\n",
    "print(X_train.shape[0], 'train samples')\n",
    "print(X_test.shape[0], 'test samples')"
   ]
  },
  {
   "cell_type": "code",
   "execution_count": 17,
   "id": "c671a986",
   "metadata": {},
   "outputs": [],
   "source": [
    "# 转为一维向量\n",
    "X_train = X_train.reshape((len(X_train), np.prod(X_train.shape[1:])))\n",
    "X_test = X_test.reshape((len(X_test), np.prod(X_test.shape[1:])))"
   ]
  },
  {
   "cell_type": "code",
   "execution_count": 18,
   "id": "adfdace2",
   "metadata": {},
   "outputs": [
    {
     "data": {
      "text/plain": [
       "((60000, 784), (10000, 784))"
      ]
     },
     "execution_count": 18,
     "metadata": {},
     "output_type": "execute_result"
    }
   ],
   "source": [
    "X_train.shape, X_test.shape"
   ]
  },
  {
   "cell_type": "markdown",
   "id": "4cbe55df",
   "metadata": {},
   "source": [
    "# 构造自动编码器"
   ]
  },
  {
   "cell_type": "markdown",
   "id": "d9e2dec3",
   "metadata": {},
   "source": [
    "## 单层"
   ]
  },
  {
   "cell_type": "code",
   "execution_count": 75,
   "id": "a8fc43fb",
   "metadata": {},
   "outputs": [],
   "source": [
    "# input_size = 784\n",
    "# hidden_size = 64\n",
    "# output_size = 784\n",
    "\n",
    "# x = Input(shape=(input_size,))\n",
    "# h = Dense(hidden_size, activation='relu', kernel_regularizer=keras.regularizers.l1(0.01))(x)\n",
    "# r = Dense(output_size, activation='sigmoid', kernel_regularizer=keras.regularizers.l1(0.01))(h)\n",
    "\n",
    "# autoencoder = Model(inputs=x, outputs=r)"
   ]
  },
  {
   "cell_type": "markdown",
   "id": "5d5877e1",
   "metadata": {},
   "source": [
    "## 多层，编码器、解码器各有一个隐层"
   ]
  },
  {
   "cell_type": "code",
   "execution_count": 76,
   "id": "e503fae4",
   "metadata": {},
   "outputs": [],
   "source": [
    "# input_size = 784\n",
    "# hidden_size = 128\n",
    "# code_size = 64\n",
    "\n",
    "# x = Input(shape=(input_size,))\n",
    "# hidden_1 = Dense(hidden_size, activation='relu')(x)\n",
    "# h = Dense(code_size, activation='relu')(hidden_1)\n",
    "# hidden_2 = Dense(hidden_size, activation='relu')(h)\n",
    "# r = Dense(input_size, activation='sigmoid')(hidden_2)\n",
    "\n",
    "# autoencoder = Model(inputs=x, outputs=r)"
   ]
  },
  {
   "cell_type": "markdown",
   "id": "76ab37bc",
   "metadata": {},
   "source": [
    "## 多层，编码器、解码器各有两个隐层"
   ]
  },
  {
   "cell_type": "code",
   "execution_count": 82,
   "id": "d2bc7be7",
   "metadata": {},
   "outputs": [],
   "source": [
    "input_size = 784\n",
    "hidden_size_1 = 256\n",
    "hidden_size_2 = 128\n",
    "code_size = 64\n",
    "\n",
    "x = Input(shape=(input_size,))\n",
    "hidden_1 = Dense(hidden_size_1, activation='relu')(x)\n",
    "hidden_2 = Dense(hidden_size_2, activation='relu')(hidden_1)\n",
    "h = Dense(code_size, activation='relu')(hidden_2)\n",
    "hidden_3 = Dense(hidden_size_2, activation='relu')(h)\n",
    "hidden_4 = Dense(hidden_size_1, activation='relu')(hidden_3)\n",
    "r = Dense(input_size, activation='sigmoid')(hidden_4)\n",
    "\n",
    "autoencoder = Model(inputs=x, outputs=r)"
   ]
  },
  {
   "cell_type": "code",
   "execution_count": 83,
   "id": "e788011f",
   "metadata": {},
   "outputs": [],
   "source": [
    "# 编译网络模型\n",
    "autoencoder.compile(optimizer='adam', loss='MSE', metrics=['accuracy'])"
   ]
  },
  {
   "cell_type": "markdown",
   "id": "2652d8b8",
   "metadata": {},
   "source": [
    "# 训练"
   ]
  },
  {
   "cell_type": "code",
   "execution_count": 84,
   "id": "4761faea",
   "metadata": {},
   "outputs": [
    {
     "name": "stdout",
     "output_type": "stream",
     "text": [
      "Epoch 1/5\n",
      "469/469 [==============================] - 5s 9ms/step - loss: 0.0379 - accuracy: 0.0106 - val_loss: 0.0181 - val_accuracy: 0.0110\n",
      "Epoch 2/5\n",
      "469/469 [==============================] - 3s 7ms/step - loss: 0.0152 - accuracy: 0.0132 - val_loss: 0.0126 - val_accuracy: 0.0149\n",
      "Epoch 3/5\n",
      "469/469 [==============================] - 3s 7ms/step - loss: 0.0117 - accuracy: 0.0123 - val_loss: 0.0106 - val_accuracy: 0.0149\n",
      "Epoch 4/5\n",
      "469/469 [==============================] - 4s 8ms/step - loss: 0.0100 - accuracy: 0.0125 - val_loss: 0.0091 - val_accuracy: 0.0145\n",
      "Epoch 5/5\n",
      "469/469 [==============================] - 3s 7ms/step - loss: 0.0089 - accuracy: 0.0124 - val_loss: 0.0083 - val_accuracy: 0.0164\n"
     ]
    }
   ],
   "source": [
    "epochs = 5\n",
    "batch_size = 128\n",
    "\n",
    "history = autoencoder.fit(X_train, X_train, batch_size=batch_size, epochs=epochs, verbose=1, validation_data=(X_test, X_test))"
   ]
  },
  {
   "cell_type": "code",
   "execution_count": 85,
   "id": "a673ed8d",
   "metadata": {},
   "outputs": [
    {
     "name": "stdout",
     "output_type": "stream",
     "text": [
      "dict_keys(['loss', 'accuracy', 'val_loss', 'val_accuracy'])\n"
     ]
    },
    {
     "data": {
      "image/png": "[encoded data removed]",
      "text/plain": [
       "<Figure size 432x288 with 1 Axes>"
      ]
     },
     "metadata": {
      "needs_background": "light"
     },
     "output_type": "display_data"
    }
   ],
   "source": [
    "print(history.history.keys())\n",
    "\n",
    "plt.plot(history.history['loss'])\n",
    "plt.plot(history.history['val_loss'])\n",
    "plt.title('model loss')\n",
    "plt.ylabel('loss')\n",
    "plt.xlabel('epoch')\n",
    "plt.legend(['train', 'validation'], loc='upper right')\n",
    "plt.show()"
   ]
  },
  {
   "cell_type": "markdown",
   "id": "92c0bf4e",
   "metadata": {},
   "source": [
    "# 预测"
   ]
  },
  {
   "cell_type": "code",
   "execution_count": 86,
   "id": "dc24dd00",
   "metadata": {},
   "outputs": [
    {
     "name": "stdout",
     "output_type": "stream",
     "text": [
      "313/313 [==============================] - 1s 2ms/step\n"
     ]
    }
   ],
   "source": [
    "decoded_imgs = autoencoder.predict(X_test)"
   ]
  },
  {
   "cell_type": "code",
   "execution_count": 87,
   "id": "3c82bb04",
   "metadata": {},
   "outputs": [
    {
     "data": {
      "image/png": "[encoded data removed]",
      "text/plain": [
       "<Figure size 1440x432 with 20 Axes>"
      ]
     },
     "metadata": {
      "needs_background": "light"
     },
     "output_type": "display_data"
    }
   ],
   "source": [
    "n = 10\n",
    "plt.figure(figsize=(20, 6))\n",
    "for i in range(n):\n",
    "    # display original\n",
    "    ax = plt.subplot(3, n, i+1)\n",
    "    plt.imshow(X_test[i].reshape(28, 28))\n",
    "    plt.gray()\n",
    "    ax.get_xaxis().set_visible(False)\n",
    "    ax.get_yaxis().set_visible(False)\n",
    "\n",
    "    \n",
    "    # display reconstruction\n",
    "    ax = plt.subplot(3, n, i+n+1)\n",
    "    plt.imshow(decoded_imgs[i].reshape(28, 28))\n",
    "    plt.gray()\n",
    "    ax.get_xaxis().set_visible(False)\n",
    "    ax.get_yaxis().set_visible(False)\n",
    "    \n",
    "plt.show()"
   ]
  }
 ],
 "metadata": {
  "interpreter": {
   "hash": "8d1b4694650d1676f11fcc41df72ac764aded19701a15b2cc33a5ed7f426839b"
  },
  "kernelspec": {
   "display_name": "Python 3.9.12 ('ML-homeworks')",
   "language": "python",
   "name": "python3"
  },
  "language_info": {
   "codemirror_mode": {
    "name": "ipython",
    "version": 3
   },
   "file_extension": ".py",
   "mimetype": "text/x-python",
   "name": "python",
   "nbconvert_exporter": "python",
   "pygments_lexer": "ipython3",
   "version": "3.9.12"
  }
 },
 "nbformat": 4,
 "nbformat_minor": 5
}
